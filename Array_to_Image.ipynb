{
 "cells": [
  {
   "cell_type": "code",
   "execution_count": 1,
   "metadata": {},
   "outputs": [],
   "source": [
    "import os\n",
    "import cv2\n",
    "import numpy as np\n",
    "import pandas as pd"
   ]
  },
  {
   "cell_type": "code",
   "execution_count": 2,
   "metadata": {},
   "outputs": [],
   "source": [
    "df = pd.read_csv(\"fer2013.csv\")\n",
    "train = df[df.Usage == \"Training\"]\n",
    "test  = df[df.Usage != \"Training\"]"
   ]
  },
  {
   "cell_type": "code",
   "execution_count": 3,
   "metadata": {},
   "outputs": [],
   "source": [
    "# 7 Categories\n",
    "# (0=Angry, 1=Disgust, 2=Fear, 3=Happy, 4=Sad, 5=Surprise, 6=Neutral)\n",
    "\n",
    "train_0 = train[train.emotion == 0]\n",
    "train_2 = train[train.emotion == 2]\n",
    "train_3 = train[train.emotion == 3]\n",
    "train_4 = train[train.emotion == 4]\n",
    "train_5 = train[train.emotion == 5]\n",
    "train_6 = train[train.emotion == 6]\n",
    "\n",
    "test_0 = test[test.emotion == 0]\n",
    "test_2 = test[test.emotion == 2]\n",
    "test_3 = test[test.emotion == 3]\n",
    "test_4 = test[test.emotion == 4]\n",
    "test_5 = test[test.emotion == 5]\n",
    "test_6 = test[test.emotion == 6]"
   ]
  },
  {
   "cell_type": "code",
   "execution_count": 15,
   "metadata": {},
   "outputs": [],
   "source": [
    "# Manually Repeat - 7 Categories\n",
    "# (0=Angry, 2=Fear, 3=Happy, 4=Sad, 5=Surprise, 6=Neutral)\n",
    "\n",
    "from PIL import Image\n",
    "\n",
    "os.mkdir(\"angry\")\n",
    "for i, row in test_0.iterrows():\n",
    "    pixels = list(row[\"pixels\"].split(' '))\n",
    "    pixels = np.asarray(pixels, dtype=np.uint8)\n",
    "    pixels = pixels.reshape((48, 48))\n",
    "    path_file_name = os.path.join('angry', 'test_angry_'+str(i)+'.jpg')\n",
    "    cv2.imwrite(path_file_name, pixels)"
   ]
  },
  {
   "cell_type": "code",
   "execution_count": 16,
   "metadata": {},
   "outputs": [],
   "source": [
    "emotions = [\"angry\", \"disgust\", \"fear\", \"happy\", \"sad\", \"surprise\", \"neutral\"]"
   ]
  },
  {
   "cell_type": "code",
   "execution_count": 17,
   "metadata": {},
   "outputs": [
    {
     "name": "stdout",
     "output_type": "stream",
     "text": [
      "7215 happy images\n",
      "4830 sad images\n",
      "4097 fear images\n",
      "3171 surprise images\n",
      "4965 neutral images\n",
      "3995 angry images\n"
     ]
    }
   ],
   "source": [
    "for e in os.listdir(\"train/\"):\n",
    "    if e in emotions:\n",
    "        print(str(len(os.listdir(\"train/\"+e))) + \" \" + e + \" images\")"
   ]
  },
  {
   "cell_type": "code",
   "execution_count": 18,
   "metadata": {},
   "outputs": [
    {
     "name": "stdout",
     "output_type": "stream",
     "text": [
      "1774 happy images\n",
      "1247 sad images\n",
      "1024 fear images\n",
      "831 surprise images\n",
      "1233 neutral images\n",
      "958 angry images\n"
     ]
    }
   ],
   "source": [
    "for e in os.listdir(\"test/\"):\n",
    "    if e in emotions:\n",
    "        print(str(len(os.listdir(\"test/\"+e))) + \" \" + e + \" images\")"
   ]
  },
  {
   "cell_type": "code",
   "execution_count": null,
   "metadata": {},
   "outputs": [],
   "source": []
  }
 ],
 "metadata": {
  "kernelspec": {
   "display_name": "Python 3",
   "language": "python",
   "name": "python3"
  },
  "language_info": {
   "codemirror_mode": {
    "name": "ipython",
    "version": 3
   },
   "file_extension": ".py",
   "mimetype": "text/x-python",
   "name": "python",
   "nbconvert_exporter": "python",
   "pygments_lexer": "ipython3",
   "version": "3.7.2"
  }
 },
 "nbformat": 4,
 "nbformat_minor": 2
}
